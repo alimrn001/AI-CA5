{
 "cells": [
  {
   "cell_type": "markdown",
   "id": "158f6b4f",
   "metadata": {},
   "source": [
    "<p style=\"text-align: center; font-size: 40px\">به نام خدا</p>\n",
    "<p style=\"text-align: center; font-size: 30px\">فاز دوم تمرین کامپیوتری شماره 5</p>\n",
    "<p style=\"text-align: center; font-size: 30px\">علی مهرانی - 810198542</p>"
   ]
  },
  {
   "cell_type": "code",
   "execution_count": null,
   "id": "8db9b0e6",
   "metadata": {},
   "outputs": [],
   "source": []
  }
 ],
 "metadata": {
  "kernelspec": {
   "display_name": "Python 3 (ipykernel)",
   "language": "python",
   "name": "python3"
  },
  "language_info": {
   "codemirror_mode": {
    "name": "ipython",
    "version": 3
   },
   "file_extension": ".py",
   "mimetype": "text/x-python",
   "name": "python",
   "nbconvert_exporter": "python",
   "pygments_lexer": "ipython3",
   "version": "3.8.6"
  }
 },
 "nbformat": 4,
 "nbformat_minor": 5
}
